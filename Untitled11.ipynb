{
  "nbformat": 4,
  "nbformat_minor": 0,
  "metadata": {
    "colab": {
      "provenance": [],
      "authorship_tag": "ABX9TyNCcimoD91tZQSRVpxC8osn",
      "include_colab_link": true
    },
    "kernelspec": {
      "name": "python3",
      "display_name": "Python 3"
    },
    "language_info": {
      "name": "python"
    }
  },
  "cells": [
    {
      "cell_type": "markdown",
      "metadata": {
        "id": "view-in-github",
        "colab_type": "text"
      },
      "source": [
        "<a href=\"https://colab.research.google.com/github/priyavanshjn/mini-project-titanic-ml-from-disaster/blob/main/Untitled11.ipynb\" target=\"_parent\"><img src=\"https://colab.research.google.com/assets/colab-badge.svg\" alt=\"Open In Colab\"/></a>"
      ]
    },
    {
      "cell_type": "code",
      "execution_count": 5,
      "metadata": {
        "id": "wGVgHuYgveNJ",
        "colab": {
          "base_uri": "https://localhost:8080/"
        },
        "outputId": "048a8f23-ec17-48b2-85db-2e7b64ab7016"
      },
      "outputs": [
        {
          "output_type": "stream",
          "name": "stdout",
          "text": [
            "Validation Accuracy (thresholded): 0.8268\n",
            "Submission file 'PRIYAVANSH_JAIN' created successfully.\n"
          ]
        }
      ],
      "source": [
        "import pandas as pd\n",
        "import numpy as np\n",
        "from sklearn.model_selection import train_test_split\n",
        "from sklearn.ensemble import RandomForestRegressor\n",
        "from sklearn.metrics import accuracy_score\n",
        "from sklearn.impute import SimpleImputer\n",
        "\n",
        "# Load training and test datasets\n",
        "train_df = pd.read_csv(\"train.csv\")\n",
        "test_df = pd.read_csv(\"test.csv\")\n",
        "\n",
        "# Save PassengerId for submission\n",
        "passenger_ids = test_df['PassengerId']\n",
        "\n",
        "# Drop irrelevant columns\n",
        "train_df = train_df.drop(['PassengerId', 'Name', 'Ticket', 'Cabin'], axis=1)\n",
        "test_df = test_df.drop(['PassengerId', 'Name', 'Ticket', 'Cabin'], axis=1)\n",
        "\n",
        "# Handle missing values\n",
        "imputer = SimpleImputer(strategy='median')\n",
        "train_df['Age'] = imputer.fit_transform(train_df[['Age']])\n",
        "test_df['Age'] = imputer.transform(test_df[['Age']])\n",
        "test_df['Fare'] = test_df['Fare'].fillna(test_df['Fare'].median())\n",
        "\n",
        "train_df['Embarked'] = train_df['Embarked'].fillna(train_df['Embarked'].mode()[0])\n",
        "test_df['Embarked'] = test_df['Embarked'].fillna(train_df['Embarked'].mode()[0])\n",
        "\n",
        "# Feature engineering\n",
        "train_df['FamilySize'] = train_df['SibSp'] + train_df['Parch'] + 1\n",
        "test_df['FamilySize'] = test_df['SibSp'] + test_df['Parch'] + 1\n",
        "\n",
        "# One-hot encoding\n",
        "train_df = pd.get_dummies(train_df, columns=['Sex', 'Embarked'], drop_first=True)\n",
        "test_df = pd.get_dummies(test_df, columns=['Sex', 'Embarked'], drop_first=True)\n",
        "\n",
        "# Ensure both datasets have same columns\n",
        "missing_cols = set(train_df.columns) - set(test_df.columns)\n",
        "missing_cols.discard('Survived')\n",
        "for col in missing_cols:\n",
        "    test_df[col] = 0\n",
        "test_df = test_df[train_df.drop('Survived', axis=1).columns]\n",
        "\n",
        "# Split data for evaluation\n",
        "X = train_df.drop('Survived', axis=1)\n",
        "y = train_df['Survived']\n",
        "X_train, X_val, y_train, y_val = train_test_split(X, y, test_size=0.2, random_state=42)\n",
        "\n",
        "# Train model\n",
        "model = RandomForestRegressor(n_estimators=100, random_state=42)\n",
        "model.fit(X_train, y_train)\n",
        "\n",
        "# Predict on validation set and evaluate\n",
        "y_val_pred = model.predict(X_val)\n",
        "y_val_pred_binary = (y_val_pred >= 0.5).astype(int)\n",
        "accuracy = accuracy_score(y_val, y_val_pred_binary)\n",
        "print(f\"Validation Accuracy (thresholded): {accuracy:.4f}\")\n",
        "\n",
        "# Predict on test set\n",
        "test_predictions = model.predict(test_df)\n",
        "test_predictions_binary = (test_predictions >= 0.5).astype(int)\n",
        "\n",
        "# Create submission DataFrame\n",
        "submission = pd.DataFrame({\n",
        "    'PassengerId': passenger_ids,\n",
        "    'Survived': test_predictions_binary\n",
        "})\n",
        "\n",
        "# Save to CSV with required format\n",
        "submission.to_csv(\"PRIYAVANSH_JAIN.csv\", index=False)\n",
        "print(\"Submission file 'PRIYAVANSH_JAIN' created successfully.\")\n"
      ]
    }
  ]
}